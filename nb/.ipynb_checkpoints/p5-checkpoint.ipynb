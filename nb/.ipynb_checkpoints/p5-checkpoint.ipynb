{
 "cells": [
  {
   "cell_type": "code",
   "execution_count": 94,
   "id": "e924042c-545e-4232-b4b0-f473f3355822",
   "metadata": {},
   "outputs": [],
   "source": [
    "from cassandra.cluster import Cluster\n",
    "try:\n",
    "    cluster = Cluster(['project-5-codelegends-db-1', 'project-5-codelegends-db-2', 'project-5-codelegends-db-3'])\n",
    "    session = cluster.connect()\n",
    "except Exception as e:\n",
    "    session.execute(\"drop table if exists loans\")"
   ]
  },
  {
   "cell_type": "code",
   "execution_count": 95,
   "id": "ad8df4da-d17f-4493-b117-bd5636ed67c1",
   "metadata": {},
   "outputs": [
    {
     "data": {
      "text/plain": [
       "[Row(keyspace_name='system', type='keyspace', name='system'),\n",
       " Row(keyspace_name='system_auth', type='keyspace', name='system_auth'),\n",
       " Row(keyspace_name='system_distributed', type='keyspace', name='system_distributed'),\n",
       " Row(keyspace_name='system_schema', type='keyspace', name='system_schema'),\n",
       " Row(keyspace_name='system_traces', type='keyspace', name='system_traces'),\n",
       " Row(keyspace_name='system_views', type='keyspace', name='system_views'),\n",
       " Row(keyspace_name='system_virtual_schema', type='keyspace', name='system_virtual_schema'),\n",
       " Row(keyspace_name='weather', type='keyspace', name='weather')]"
      ]
     },
     "execution_count": 95,
     "metadata": {},
     "output_type": "execute_result"
    }
   ],
   "source": [
    "list(session.execute(\"describe keyspaces\"))"
   ]
  },
  {
   "cell_type": "code",
   "execution_count": 96,
   "id": "40e4c3d6-f526-49f7-9ae9-24613d19052a",
   "metadata": {},
   "outputs": [
    {
     "data": {
      "text/html": [
       "<div>\n",
       "<style scoped>\n",
       "    .dataframe tbody tr th:only-of-type {\n",
       "        vertical-align: middle;\n",
       "    }\n",
       "\n",
       "    .dataframe tbody tr th {\n",
       "        vertical-align: top;\n",
       "    }\n",
       "\n",
       "    .dataframe thead th {\n",
       "        text-align: right;\n",
       "    }\n",
       "</style>\n",
       "<table border=\"1\" class=\"dataframe\">\n",
       "  <thead>\n",
       "    <tr style=\"text-align: right;\">\n",
       "      <th></th>\n",
       "      <th>keyspace_name</th>\n",
       "      <th>type</th>\n",
       "      <th>name</th>\n",
       "    </tr>\n",
       "  </thead>\n",
       "  <tbody>\n",
       "    <tr>\n",
       "      <th>0</th>\n",
       "      <td>system</td>\n",
       "      <td>keyspace</td>\n",
       "      <td>system</td>\n",
       "    </tr>\n",
       "    <tr>\n",
       "      <th>1</th>\n",
       "      <td>system_auth</td>\n",
       "      <td>keyspace</td>\n",
       "      <td>system_auth</td>\n",
       "    </tr>\n",
       "    <tr>\n",
       "      <th>2</th>\n",
       "      <td>system_distributed</td>\n",
       "      <td>keyspace</td>\n",
       "      <td>system_distributed</td>\n",
       "    </tr>\n",
       "    <tr>\n",
       "      <th>3</th>\n",
       "      <td>system_schema</td>\n",
       "      <td>keyspace</td>\n",
       "      <td>system_schema</td>\n",
       "    </tr>\n",
       "    <tr>\n",
       "      <th>4</th>\n",
       "      <td>system_traces</td>\n",
       "      <td>keyspace</td>\n",
       "      <td>system_traces</td>\n",
       "    </tr>\n",
       "    <tr>\n",
       "      <th>5</th>\n",
       "      <td>system_views</td>\n",
       "      <td>keyspace</td>\n",
       "      <td>system_views</td>\n",
       "    </tr>\n",
       "    <tr>\n",
       "      <th>6</th>\n",
       "      <td>system_virtual_schema</td>\n",
       "      <td>keyspace</td>\n",
       "      <td>system_virtual_schema</td>\n",
       "    </tr>\n",
       "    <tr>\n",
       "      <th>7</th>\n",
       "      <td>weather</td>\n",
       "      <td>keyspace</td>\n",
       "      <td>weather</td>\n",
       "    </tr>\n",
       "  </tbody>\n",
       "</table>\n",
       "</div>"
      ],
      "text/plain": [
       "           keyspace_name      type                   name\n",
       "0                 system  keyspace                 system\n",
       "1            system_auth  keyspace            system_auth\n",
       "2     system_distributed  keyspace     system_distributed\n",
       "3          system_schema  keyspace          system_schema\n",
       "4          system_traces  keyspace          system_traces\n",
       "5           system_views  keyspace           system_views\n",
       "6  system_virtual_schema  keyspace  system_virtual_schema\n",
       "7                weather  keyspace                weather"
      ]
     },
     "execution_count": 96,
     "metadata": {},
     "output_type": "execute_result"
    }
   ],
   "source": [
    "import pandas as pd\n",
    "pd.DataFrame(session.execute(\"describe keyspaces\"))"
   ]
  },
  {
   "cell_type": "code",
   "execution_count": 97,
   "id": "35e301cf-db3b-4597-b693-f64ecc21be48",
   "metadata": {},
   "outputs": [
    {
     "data": {
      "text/plain": [
       "<cassandra.cluster.ResultSet at 0x7f7aa5d5c9a0>"
      ]
     },
     "execution_count": 97,
     "metadata": {},
     "output_type": "execute_result"
    }
   ],
   "source": [
    "session.execute(\"\"\"\n",
    "CREATE KEYSPACE IF NOT EXISTS weather\n",
    "WITH replication = {'class': 'SimpleStrategy', 'replication_factor': '3'}\n",
    "\"\"\")"
   ]
  },
  {
   "cell_type": "code",
   "execution_count": 98,
   "id": "bff9e81f-33ae-4a20-a47d-320f777004b3",
   "metadata": {},
   "outputs": [
    {
     "data": {
      "text/plain": [
       "<cassandra.cluster.ResultSet at 0x7f7aa6098280>"
      ]
     },
     "execution_count": 98,
     "metadata": {},
     "output_type": "execute_result"
    }
   ],
   "source": [
    "session.execute(\"\"\"\n",
    "CREATE TYPE IF NOT EXISTS weather.station_record (\n",
    "    tmin int,\n",
    "    tmax int\n",
    ")\n",
    "\"\"\")"
   ]
  },
  {
   "cell_type": "code",
   "execution_count": 99,
   "id": "453b5a69-19dd-4c67-bcad-ac07fab6a57e",
   "metadata": {},
   "outputs": [
    {
     "data": {
      "text/plain": [
       "<cassandra.cluster.ResultSet at 0x7f7af3bee620>"
      ]
     },
     "execution_count": 99,
     "metadata": {},
     "output_type": "execute_result"
    }
   ],
   "source": [
    "session.execute(\"\"\"\n",
    "CREATE TABLE IF NOT EXISTS weather.stations (\n",
    "    id text,\n",
    "    name text static,\n",
    "    date date,\n",
    "    record station_record,\n",
    "    PRIMARY KEY (id, date)\n",
    ")\n",
    "\"\"\")"
   ]
  },
  {
   "cell_type": "code",
   "execution_count": 100,
   "id": "0ad3fba5-4b69-4b65-a6d9-2ab830a7286e",
   "metadata": {},
   "outputs": [
    {
     "name": "stdout",
     "output_type": "stream",
     "text": [
      "CREATE KEYSPACE weather WITH replication = {'class': 'SimpleStrategy', 'replication_factor': '3'}  AND durable_writes = true;\n",
      "CREATE TABLE weather.stations (\n",
      "    id text,\n",
      "    date date,\n",
      "    name text static,\n",
      "    record station_record,\n",
      "    PRIMARY KEY (id, date)\n",
      ") WITH CLUSTERING ORDER BY (date ASC)\n",
      "    AND additional_write_policy = '99p'\n",
      "    AND bloom_filter_fp_chance = 0.01\n",
      "    AND caching = {'keys': 'ALL', 'rows_per_partition': 'NONE'}\n",
      "    AND cdc = false\n",
      "    AND comment = ''\n",
      "    AND compaction = {'class': 'org.apache.cassandra.db.compaction.SizeTieredCompactionStrategy', 'max_threshold': '32', 'min_threshold': '4'}\n",
      "    AND compression = {'chunk_length_in_kb': '16', 'class': 'org.apache.cassandra.io.compress.LZ4Compressor'}\n",
      "    AND crc_check_chance = 1.0\n",
      "    AND default_time_to_live = 0\n",
      "    AND extensions = {}\n",
      "    AND gc_grace_seconds = 864000\n",
      "    AND max_index_interval = 2048\n",
      "    AND memtable_flush_period_in_ms = 0\n",
      "    AND min_index_interval = 128\n",
      "    AND read_repair = 'BLOCKING'\n",
      "    AND speculative_retry = '99p';\n"
     ]
    }
   ],
   "source": [
    "#q1\n",
    "print(session.execute(\"describe keyspace weather\").one().create_statement)\n",
    "print(session.execute(\"describe table weather.stations\").one().create_statement)"
   ]
  },
  {
   "cell_type": "code",
   "execution_count": 101,
   "id": "c7b658f2-3da8-461e-96d4-77e3fe8a86a5",
   "metadata": {},
   "outputs": [],
   "source": [
    "from pyspark.sql import SparkSession\n",
    "spark = (SparkSession.builder\n",
    "         .appName(\"p5\")\n",
    "         .config('spark.jars.packages', 'com.datastax.spark:spark-cassandra-connector_2.12:3.2.0')\n",
    "         .config(\"spark.sql.extensions\", \"com.datastax.spark.connector.CassandraSparkExtensions\")\n",
    "         .getOrCreate())"
   ]
  },
  {
   "cell_type": "code",
   "execution_count": 9,
   "id": "ee472124-05e6-4a34-b52a-39c872ce86eb",
   "metadata": {},
   "outputs": [
    {
     "name": "stdout",
     "output_type": "stream",
     "text": [
      "--2023-04-12 23:23:53--  https://pages.cs.wisc.edu/~harter/cs639/data/ghcnd-stations.txt\n",
      "Resolving pages.cs.wisc.edu (pages.cs.wisc.edu)... 128.105.7.9\n",
      "Connecting to pages.cs.wisc.edu (pages.cs.wisc.edu)|128.105.7.9|:443... connected.\n",
      "HTTP request sent, awaiting response... 200 OK\n",
      "Length: 10607756 (10M) [text/plain]\n",
      "Saving to: ‘ghcnd-stations.txt’\n",
      "\n",
      "ghcnd-stations.txt  100%[===================>]  10.12M  37.2MB/s    in 0.3s    \n",
      "\n",
      "2023-04-12 23:23:53 (37.2 MB/s) - ‘ghcnd-stations.txt’ saved [10607756/10607756]\n",
      "\n"
     ]
    }
   ],
   "source": [
    "! wget https://pages.cs.wisc.edu/~harter/cs639/data/ghcnd-stations.txt"
   ]
  },
  {
   "cell_type": "code",
   "execution_count": 102,
   "id": "3af4ddc8-5438-442d-87f4-ed3b419664ef",
   "metadata": {},
   "outputs": [],
   "source": [
    "df = spark.read.text(\"ghcnd-stations.txt\")"
   ]
  },
  {
   "cell_type": "code",
   "execution_count": 103,
   "id": "43a2d468-a4e8-443e-84c3-700422fb6e05",
   "metadata": {},
   "outputs": [
    {
     "data": {
      "text/plain": [
       "[Row(value='ACW00011604  17.1167  -61.7833   10.1    ST JOHNS COOLIDGE FLD                       '),\n",
       " Row(value='ACW00011647  17.1333  -61.7833   19.2    ST JOHNS                                    '),\n",
       " Row(value='AE000041196  25.3330   55.5170   34.0    SHARJAH INTER. AIRP            GSN     41196'),\n",
       " Row(value='AEM00041194  25.2550   55.3640   10.4    DUBAI INTL                             41194'),\n",
       " Row(value='AEM00041217  24.4330   54.6510   26.8    ABU DHABI INTL                         41217'),\n",
       " Row(value='AEM00041218  24.2620   55.6090  264.9    AL AIN INTL                            41218'),\n",
       " Row(value='AF000040930  35.3170   69.0170 3366.0    NORTH-SALANG                   GSN     40930'),\n",
       " Row(value='AFM00040938  34.2100   62.2280  977.2    HERAT                                  40938'),\n",
       " Row(value='AFM00040948  34.5660   69.2120 1791.3    KABUL INTL                             40948'),\n",
       " Row(value='AFM00040990  31.5000   65.8500 1010.0    KANDAHAR AIRPORT                       40990')]"
      ]
     },
     "execution_count": 103,
     "metadata": {},
     "output_type": "execute_result"
    }
   ],
   "source": [
    "df.take(10)"
   ]
  },
  {
   "cell_type": "code",
   "execution_count": 104,
   "id": "71189e40-bca1-4163-abd6-d4fe759b153d",
   "metadata": {},
   "outputs": [],
   "source": [
    "from pyspark.sql.functions import col, expr"
   ]
  },
  {
   "cell_type": "code",
   "execution_count": 105,
   "id": "4ce814c4-9f4c-45f5-8510-0527bff0221a",
   "metadata": {},
   "outputs": [],
   "source": [
    "df2 = df.withColumn(\"state\", expr(\"substring(value, 38, 3)\"))\n",
    "df3 = df2.withColumn(\"id\", expr(\"substring(value,0,11)\"))\n",
    "df_new = df3.withColumn(\"name\", expr(\"substring(value, 41)\"))"
   ]
  },
  {
   "cell_type": "code",
   "execution_count": 106,
   "id": "8110234d-b25b-4bef-abd2-cc3839158d46",
   "metadata": {},
   "outputs": [
    {
     "data": {
      "text/plain": [
       "[('value', 'string'),\n",
       " ('state', 'string'),\n",
       " ('id', 'string'),\n",
       " ('name', 'string')]"
      ]
     },
     "execution_count": 106,
     "metadata": {},
     "output_type": "execute_result"
    }
   ],
   "source": [
    "df_new.dtypes"
   ]
  },
  {
   "cell_type": "code",
   "execution_count": 107,
   "id": "4ba75692-fd2c-4da1-95aa-6ae8e143c1f6",
   "metadata": {},
   "outputs": [],
   "source": [
    "WI_df = df_new.select(\n",
    "    expr(\"id\"), expr(\"name\")).where(col(\"state\").contains(\"WI\"))"
   ]
  },
  {
   "cell_type": "code",
   "execution_count": 108,
   "id": "a8af0156-b56c-4d74-b618-b86e4f502aaa",
   "metadata": {},
   "outputs": [
    {
     "data": {
      "text/plain": [
       "pyspark.sql.dataframe.DataFrame"
      ]
     },
     "execution_count": 108,
     "metadata": {},
     "output_type": "execute_result"
    }
   ],
   "source": [
    "type(WI_df)"
   ]
  },
  {
   "cell_type": "code",
   "execution_count": 109,
   "id": "8124bdf9-dc01-41be-88a0-b368adfd3ff9",
   "metadata": {},
   "outputs": [],
   "source": [
    "temp = WI_df.collect()"
   ]
  },
  {
   "cell_type": "code",
   "execution_count": 110,
   "id": "5425fa08-d84e-4ad9-a637-6b4503aef2a4",
   "metadata": {
    "tags": []
   },
   "outputs": [],
   "source": [
    "for row in temp:\n",
    "    id_ = str(row[0])\n",
    "    name = str(row[1])\n",
    "    cql = \"INSERT INTO weather.stations(id, name) VALUES (%s, %s)\"\n",
    "    session.execute(cql, (id_, name))"
   ]
  },
  {
   "cell_type": "code",
   "execution_count": 116,
   "id": "42537f2c-7049-4054-bcc0-9cf5e9858600",
   "metadata": {},
   "outputs": [
    {
     "name": "stdout",
     "output_type": "stream",
     "text": [
      "Partition token: -9014250178872933741\n",
      "vnode token: -8917952123127554185                        \n"
     ]
    }
   ],
   "source": [
    "import subprocess\n",
    "import re\n",
    "token_id = session.execute(\"SELECT TOKEN(id) FROM weather.stations WHERE id = 'USC00470273'\")\n",
    "partition_token = token_id.one()[0]\n",
    "print(\"Partition token:\", partition_token)\n",
    "\n",
    "output = subprocess.check_output(['nodetool', 'ring']).decode()\n",
    "for row in output.splitlines()[5:]:\n",
    "    if int(row[80:]) >= partition_token:\n",
    "        print(\"vnode token:\", row[80:])\n",
    "        break"
   ]
  },
  {
   "cell_type": "code",
   "execution_count": 118,
   "id": "237a9794-c946-480e-9576-623bb7676bc9",
   "metadata": {},
   "outputs": [],
   "source": [
    "!python3 -m grpc_tools.protoc -I=. --python_out=. --grpc_python_out=. station.proto"
   ]
  },
  {
   "cell_type": "code",
   "execution_count": null,
   "id": "d752f2d3-7388-4f9e-b977-b6717385bf84",
   "metadata": {},
   "outputs": [],
   "source": []
  }
 ],
 "metadata": {
  "kernelspec": {
   "display_name": "Python 3 (ipykernel)",
   "language": "python",
   "name": "python3"
  },
  "language_info": {
   "codemirror_mode": {
    "name": "ipython",
    "version": 3
   },
   "file_extension": ".py",
   "mimetype": "text/x-python",
   "name": "python",
   "nbconvert_exporter": "python",
   "pygments_lexer": "ipython3",
   "version": "3.10.6"
  }
 },
 "nbformat": 4,
 "nbformat_minor": 5
}
